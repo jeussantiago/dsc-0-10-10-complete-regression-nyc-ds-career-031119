{
 "cells": [
  {
   "cell_type": "markdown",
   "metadata": {},
   "source": [
    "# Regression Lab\n",
    "\n",
    "Now have all the necessary functions to calculate the slope, intercept, best-fit line, prediction and visualizations. In this lab you will put them all together to run a regression experiment and calculate model loss. \n",
    "\n",
    "## SWBAT\n",
    "\n",
    "* Run a complete regression analysis through code only. "
   ]
  },
  {
   "cell_type": "markdown",
   "metadata": {},
   "source": [
    "## Here are all the formulas to put everything in perspective\n",
    "\n",
    "#### Slope\n",
    "<img src=\"m.png\" width = 300>\n",
    "\n",
    "#### Intercept \n",
    "<img src=\"b.png\" width = 200>\n",
    "\n",
    "#### R-squared\n",
    "<img src=\"r2.png\" width = 400>\n",
    "\n",
    "#### Prediction\n",
    "![](pred.jpg)\n",
    "\n",
    "\n",
    "Use the functions created earlier to implement these formulas to run a regression analysis using X and Y as input variables. "
   ]
  },
  {
   "cell_type": "code",
   "execution_count": 20,
   "metadata": {},
   "outputs": [
    {
     "name": "stdout",
     "output_type": "stream",
     "text": [
      "Basic Regression Diagnostics\n",
      "----------------------------\n",
      "Slope:  0.56\n",
      "Y-Intercept:  6.32\n",
      "R-Squared:  0.97\n",
      "----------------------------\n",
      "Model: Y = 0.56 * X + 6.32\n"
     ]
    },
    {
     "data": {
      "image/png": "[encoded data removed]",
      "text/plain": [
       "<Figure size 432x288 with 1 Axes>"
      ]
     },
     "metadata": {},
     "output_type": "display_data"
    }
   ],
   "source": [
    "import numpy as np\n",
    "import matplotlib.pyplot as plt\n",
    "from matplotlib import style\n",
    "# Combine all the functions created so far to run a complete regression experiment. \n",
    "# Produce an output similar to the one shown below. \n",
    "\n",
    "X = np.array([1,2,3,4,5,6,7,8,9,10], dtype=np.float64)\n",
    "Y = np.array([7,7,8,9,9,10,10,11,11,12], dtype=np.float64)\n",
    "\n",
    "#calculate slope\n",
    "def get_slope(xs, ys):\n",
    "    x_bar = xs.mean()\n",
    "    y_bar = ys.mean()\n",
    "    x_y_bar = np.mean(xs*ys)\n",
    "    x_squared_bar = np.mean(xs**2)\n",
    "    \n",
    "    num = x_bar * y_bar - x_y_bar\n",
    "    denom = x_bar**2 - x_squared_bar\n",
    "    \n",
    "    return round(num/denom, 2)\n",
    "\n",
    "#calculate y_intercept\n",
    "def get_y_intercept(xs, ys):\n",
    "    m = get_slope(xs, ys)\n",
    "    x_bar = xs.mean()\n",
    "    y_bar = ys.mean()\n",
    "    \n",
    "    return round(y_bar - m*x_bar, 2)\n",
    "\n",
    "def squared_err(ys_a, ys_b):\n",
    "    return sum([(y_a - y_b)**2 for y_a, y_b in zip(ys_a, ys_b)])\n",
    "    \n",
    "#calculate R-Squared\n",
    "def get_r_squared(ys_real, ys_predicted):\n",
    "    \n",
    "    #SSE - numerator\n",
    "    num = squared_err(ys_real, ys_predicted)\n",
    "    \n",
    "    lst_means = [ys_real.mean() for i in range(len(ys_real))]\n",
    "    #SST \n",
    "    denom = squared_err(ys_real, lst_means)\n",
    "    \n",
    "    return round(1 - num/denom, 2)\n",
    "\n",
    "#Calculate y for regression line mx+b\n",
    "def predicted(x, m, b):\n",
    "    return m*x + b\n",
    "\n",
    "#plot the regression line with actual and predicted data points\n",
    "def plt_regression(X, Y, y_predicted):\n",
    "    style.use('ggplot')\n",
    "    plt.scatter(X,Y, color='blue', label='data')\n",
    "    plt.plot(X, y_predicted, color='#880000', label='regression line')\n",
    "    plt.legend(loc=4)\n",
    "    plt.show()\n",
    "\n",
    "m = get_slope(X,Y)\n",
    "b = get_y_intercept(X,Y)\n",
    "y_predicted = [predicted(x,m,b) for x in X]\n",
    "R = get_r_squared(Y, y_predicted)\n",
    "\n",
    "\n",
    "print(\"Basic Regression Diagnostics\")\n",
    "print(\"----------------------------\")\n",
    "print(\"Slope: \", m)\n",
    "print(\"Y-Intercept: \", b)\n",
    "print(\"R-Squared: \", R)\n",
    "print(\"----------------------------\")\n",
    "print(\"Model: Y = {} * X + {}\".format(m, b))\n",
    "\n",
    "    \n",
    "plt_regression(X, Y, y_predicted)\n",
    "\n"
   ]
  },
  {
   "cell_type": "markdown",
   "metadata": {},
   "source": [
    "## Make Predictions\n",
    "\n",
    "Predict and plot the value of y using regression line above for a new value of x = 4.5."
   ]
  },
  {
   "cell_type": "code",
   "execution_count": 23,
   "metadata": {},
   "outputs": [
    {
     "data": {
      "image/png": "[encoded data removed]",
      "text/plain": [
       "<Figure size 432x288 with 1 Axes>"
      ]
     },
     "metadata": {},
     "output_type": "display_data"
    }
   ],
   "source": [
    "# Make prediction using given value and visualize on the scatter plot\n",
    "new_x = 4.5\n",
    "y_pos = predicted(new_x, m, b)\n",
    "plt.scatter(new_x, y_pos, color='r', label='Predction: {}'.format(y_pos))\n",
    "plt_regression(X, Y, y_predicted)\n"
   ]
  },
  {
   "cell_type": "markdown",
   "metadata": {},
   "source": [
    "## Level up - Optional \n",
    "Load the \"heightWeight.csv\" dataset. Use the height as an independant and weight as a dependant variable and draw a regression line to data using your code above. Calculate your R-square for the model and try to predict new values of Y. "
   ]
  },
  {
   "cell_type": "markdown",
   "metadata": {},
   "source": [
    "## Summary\n",
    "\n",
    "In this lab, we ran a complete simple regression analysis experiment using functions created so far. Next We shall see how we can use python's built in modules to perform such analyses with a much higher level of sophistication. "
   ]
  },
  {
   "cell_type": "code",
   "execution_count": null,
   "metadata": {},
   "outputs": [],
   "source": []
  }
 ],
 "metadata": {
  "kernelspec": {
   "display_name": "Python 3",
   "language": "python",
   "name": "python3"
  },
  "language_info": {
   "codemirror_mode": {
    "name": "ipython",
    "version": 3
   },
   "file_extension": ".py",
   "mimetype": "text/x-python",
   "name": "python",
   "nbconvert_exporter": "python",
   "pygments_lexer": "ipython3",
   "version": "3.6.6"
  }
 },
 "nbformat": 4,
 "nbformat_minor": 2
}
